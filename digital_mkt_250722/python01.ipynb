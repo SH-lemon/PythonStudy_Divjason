{
 "cells": [
  {
   "cell_type": "code",
   "execution_count": 1,
   "id": "08b539b1-65ea-4034-b609-2170db7d3d07",
   "metadata": {},
   "outputs": [
    {
     "name": "stdout",
     "output_type": "stream",
     "text": [
      "Requirement already satisfied: konlpy in /opt/anaconda3/lib/python3.13/site-packages (0.6.0)\n",
      "Requirement already satisfied: JPype1>=0.7.0 in /opt/anaconda3/lib/python3.13/site-packages (from konlpy) (1.6.0)\n",
      "Requirement already satisfied: lxml>=4.1.0 in /opt/anaconda3/lib/python3.13/site-packages (from konlpy) (5.3.0)\n",
      "Requirement already satisfied: numpy>=1.6 in /opt/anaconda3/lib/python3.13/site-packages (from konlpy) (2.1.3)\n",
      "Requirement already satisfied: packaging in /opt/anaconda3/lib/python3.13/site-packages (from JPype1>=0.7.0->konlpy) (24.2)\n",
      "Note: you may need to restart the kernel to use updated packages.\n"
     ]
    }
   ],
   "source": [
    "pip install konlpy"
   ]
  },
  {
   "cell_type": "code",
   "execution_count": 14,
   "id": "9100fc03-e6d0-470c-948f-294046a409fa",
   "metadata": {},
   "outputs": [
    {
     "name": "stderr",
     "output_type": "stream",
     "text": [
      "The chromedriver version (137.0.7151.104) detected in PATH at /usr/local/bin/chromedriver might not be compatible with the detected chrome version (138.0.7204.158); currently, chromedriver 138.0.7204.157 is recommended for chrome 138.*, so it is advised to delete the driver in PATH and retry\n"
     ]
    },
    {
     "name": "stdout",
     "output_type": "stream",
     "text": [
      "엑셀 저장 완료 : kurly_reviews.xlsx\n"
     ]
    }
   ],
   "source": [
    "from selenium import webdriver\n",
    "from selenium.webdriver.chrome.options import Options\n",
    "from bs4 import BeautifulSoup\n",
    "from openpyxl import Workbook\n",
    "from konlpy.tag import Okt\n",
    "from collections import Counter\n",
    "import time\n",
    "\n",
    "options = Options()\n",
    "options.add_argument(\"--no-sandbox\")\n",
    "options.add_argument(\"--disable-dev-shm-usage\")\n",
    "options.add_argument(\"--headless\")\n",
    "\n",
    "driver = webdriver.Chrome(options=options)\n",
    "\n",
    "url = \"https://www.kurly.com/goods/1000078028\"\n",
    "test = driver.get(url)\n",
    "time.sleep(5)\n",
    "\n",
    "soup = BeautifulSoup(driver.page_source, \"html.parser\")\n",
    "reviews = soup.select(\"p.css-y49dcn.e36z05c13\")\n",
    "review_lists = [review.get_text().strip() for review in reviews]\n",
    "\n",
    "driver.quit()\n",
    "\n",
    "wb = Workbook()\n",
    "ws = wb.active\n",
    "ws.title = \"Kurly Reviews\"\n",
    "ws.append([\"리뷰내용\"])\n",
    "\n",
    "for item in review_lists :\n",
    "    ws.append([item])\n",
    "\n",
    "okt = Okt()\n",
    "all_text = \" \".join(review_lists)\n",
    "nouns = okt.nouns(all_text)\n",
    "filtered_nouns = [n for n in nouns if len(n) > 1]\n",
    "count = Counter(filtered_nouns)\n",
    "\n",
    "ws_keywords = wb.create_sheet(\"Keyword Frequency\")\n",
    "ws_keywords.append([\"키워드\", \"빈도수\"])\n",
    "for word, freq in count.most_common(30) :\n",
    "    ws_keywords.append([word, freq])\n",
    "\n",
    "wb.save(\"kurly_reviews.xlsx\")\n",
    "print(\"엑셀 저장 완료 : kurly_reviews.xlsx\")"
   ]
  },
  {
   "cell_type": "code",
   "execution_count": 20,
   "id": "5494d339-b9c0-437d-b954-097bcf725485",
   "metadata": {},
   "outputs": [
    {
     "name": "stdout",
     "output_type": "stream",
     "text": [
      "완료 : 전체 키워드 분석 결과 저장됨\n"
     ]
    }
   ],
   "source": [
    "from openpyxl import load_workbook\n",
    "from konlpy.tag import Okt\n",
    "from collections import Counter\n",
    "\n",
    "wb = load_workbook(\"연관키워드 20250722 1448.xlsx\")\n",
    "ws = wb.active\n",
    "\n",
    "texts = [row[0] for row in ws.iter_rows(min_row = 2, max_col = 1, values_only = True) if row[0]]\n",
    "\n",
    "okt = Okt()\n",
    "all_text = \" \".join(texts)\n",
    "nouns = okt.nouns(all_text)\n",
    "filtered_nouns = [n for n in nouns if len(n) > 1]\n",
    "count = Counter(filtered_nouns)\n",
    "\n",
    "ws_keywords = wb.create_sheet(\"키워드 전체분석\")\n",
    "ws_keywords.append([\"명사\", \"빈도수\"])\n",
    "for word, freq in sorted(count.items(), key=lambda x: x[1], reverse = True) :\n",
    "    ws_keywords.append([word, freq])\n",
    "\n",
    "wb.save(\"연관키워드_분석결과.xlsx\")\n",
    "print(\"완료 : 전체 키워드 분석 결과 저장됨\")"
   ]
  },
  {
   "cell_type": "code",
   "execution_count": 21,
   "id": "5e07ae8f-89f5-4029-894b-070b12cac495",
   "metadata": {},
   "outputs": [
    {
     "name": "stdout",
     "output_type": "stream",
     "text": [
      "완료 : 전체 키워드 분석 결과 저장됨\n"
     ]
    }
   ],
   "source": [
    "from openpyxl import load_workbook\n",
    "from konlpy.tag import Okt\n",
    "from collections import Counter\n",
    "import re\n",
    "\n",
    "wb = load_workbook(\"연관키워드 20250722 1448.xlsx\")\n",
    "ws = wb.active\n",
    "\n",
    "texts = [row[0] for row in ws.iter_rows(min_row = 2, max_col = 1, values_only = True) if row[0]]\n",
    "\n",
    "okt = Okt()\n",
    "all_text = \" \".join(texts)\n",
    "\n",
    "nouns_tokens = okt.nouns(all_text)\n",
    "\n",
    "regex_tokens = re.findall(r'[A-Za-z]*\\d+[A-Za-z]+|\\d+[A-Za-z]*', all_text)\n",
    "\n",
    "valid_one_letter = {\"금\", \"은\", \"동\"}\n",
    "stopwords = {\"사용\", \"정도\", \"조금\", \"제품\", \"때문\", \"생각\", \"만족\", \"구매\", \"다음\"}\n",
    "\n",
    "combined_tokens = nouns_tokens + regex_tokens\n",
    "filtered_tokens = [t for t in combined_tokens if (len(t) > 1 or t in valid_one_letter) and t not in stopwords]\n",
    "\n",
    "count = Counter(filtered_tokens)\n",
    "\n",
    "ws_keywords = wb.create_sheet(\"키워드 전체분석\")\n",
    "ws_keywords.append([\"명사\", \"빈도수\"])\n",
    "for word, freq in sorted(count.items(), key=lambda x: x[1], reverse = True) :\n",
    "    ws_keywords.append([word, freq])\n",
    "\n",
    "wb.save(\"연관키워드_분석결과.xlsx\")\n",
    "print(\"완료 : 전체 키워드 분석 결과 저장됨\")"
   ]
  }
 ],
 "metadata": {
  "kernelspec": {
   "display_name": "Python [conda env:base] *",
   "language": "python",
   "name": "conda-base-py"
  },
  "language_info": {
   "codemirror_mode": {
    "name": "ipython",
    "version": 3
   },
   "file_extension": ".py",
   "mimetype": "text/x-python",
   "name": "python",
   "nbconvert_exporter": "python",
   "pygments_lexer": "ipython3",
   "version": "3.13.5"
  }
 },
 "nbformat": 4,
 "nbformat_minor": 5
}
