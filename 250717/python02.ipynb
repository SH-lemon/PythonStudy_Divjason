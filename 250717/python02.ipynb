{
 "cells": [
  {
   "cell_type": "markdown",
   "id": "6b20717b-4dae-4dee-9257-feff3ea46ffa",
   "metadata": {},
   "source": [
    "#### 문자열 관련 함수 리스트\n",
    "- count : 문자열에 있는 특정 문자 갯수 세기\n",
    "- index : 문자열에 있는 특정 문자의 인덱스 위치를 알려주기\n",
    "- find : 문자열에 있는 특정 문자의 인덱스를 찾아오긴 하나, 만약 존재하지 않는다면 에러를 발생하지 않고 -1을 발생!!!\n",
    "- join : 문자열 사이에 다른 문자를 끼워 넣기\n",
    "- strip : 문자열 앞뒤에 공백 지우기\n",
    "- upper : 소문자를 대문자로 변경하기\n",
    "- lower : 대문자를 소문자로 변경하기\n",
    "- split : 문자열 내 특정 문자를 기준으로 나누기\n",
    "- replace : 문자열 중 일부를 다른 문자로 바꾸거나 혹은 삭제하기"
   ]
  },
  {
   "cell_type": "code",
   "execution_count": 4,
   "id": "7b1f3415-834c-40fc-9ab1-77c51c3887b2",
   "metadata": {},
   "outputs": [
    {
     "data": {
      "text/plain": [
       "2"
      ]
     },
     "execution_count": 4,
     "metadata": {},
     "output_type": "execute_result"
    }
   ],
   "source": [
    "data = \"Dave David\"\n",
    "data.count(\"Dave\")\n",
    "data.count(\"D\")"
   ]
  },
  {
   "cell_type": "code",
   "execution_count": 6,
   "id": "86b755cc-dbf3-43ca-94e6-8ce9e0886227",
   "metadata": {},
   "outputs": [
    {
     "data": {
      "text/plain": [
       "11"
      ]
     },
     "execution_count": 6,
     "metadata": {},
     "output_type": "execute_result"
    }
   ],
   "source": [
    "string = \"Dave ID is dave\"\n",
    "string.index(\"D\")\n",
    "string.index(\"d\")\n",
    "# string.index(\"x\")"
   ]
  },
  {
   "cell_type": "code",
   "execution_count": 10,
   "id": "d599f4e1-1ed3-45dd-bab7-abfa24fd9b37",
   "metadata": {},
   "outputs": [
    {
     "name": "stdout",
     "output_type": "stream",
     "text": [
      "x는 string01 문자열 객체 안에 없습니다.\n"
     ]
    }
   ],
   "source": [
    "string01 = \"Dave ID is dave\"\n",
    "string01.find(\"x\")\n",
    "string01.find(\"a\")\n",
    "\n",
    "if string01.find(\"x\") == -1 :\n",
    "    print(\"x는 string01 문자열 객체 안에 없습니다.\")"
   ]
  },
  {
   "cell_type": "code",
   "execution_count": 11,
   "id": "ebcc426e-ec1e-4208-ad63-0192330120a9",
   "metadata": {},
   "outputs": [
    {
     "data": {
      "text/plain": [
       "'1,2,3,4,5'"
      ]
     },
     "execution_count": 11,
     "metadata": {},
     "output_type": "execute_result"
    }
   ],
   "source": [
    "string02 = \"12345\"\n",
    "comma = \",\"\n",
    "\n",
    "comma.join(string02)"
   ]
  },
  {
   "cell_type": "code",
   "execution_count": 15,
   "id": "975d2893-5610-46a2-9526-362317de0c5b",
   "metadata": {},
   "outputs": [
    {
     "data": {
      "text/plain": [
       "'       Dave04'"
      ]
     },
     "execution_count": 15,
     "metadata": {},
     "output_type": "execute_result"
    }
   ],
   "source": [
    "data01 = \" Dave \"\n",
    "data01.strip()\n",
    "\n",
    "data02 = \"       Dave02 \"\n",
    "data02.strip()\n",
    "\n",
    "data03 = \"       Dave03 \"\n",
    "data03.lstrip()\n",
    "\n",
    "data04 = \"       Dave04 \"\n",
    "data04.rstrip()"
   ]
  },
  {
   "cell_type": "code",
   "execution_count": 25,
   "id": "b967d511-aea6-4529-93f6-d7254f8c12ec",
   "metadata": {},
   "outputs": [
    {
     "data": {
      "text/plain": [
       "'Dave'"
      ]
     },
     "execution_count": 25,
     "metadata": {},
     "output_type": "execute_result"
    }
   ],
   "source": [
    "string03 = \"       9999999999999999(Dave)888888888888     \"\n",
    "string03.strip(\" 98()\")"
   ]
  },
  {
   "cell_type": "code",
   "execution_count": 26,
   "id": "f31e3722-8963-4aa8-83a4-255fd2326f66",
   "metadata": {},
   "outputs": [
    {
     "data": {
      "text/plain": [
       "'DAVE ID IS DAVE'"
      ]
     },
     "execution_count": 26,
     "metadata": {},
     "output_type": "execute_result"
    }
   ],
   "source": [
    "string04 = \"Dave ID is dave\"\n",
    "string04.upper()"
   ]
  },
  {
   "cell_type": "code",
   "execution_count": 27,
   "id": "65f31d98-d2db-4581-b7a4-d4e89fc4f8da",
   "metadata": {},
   "outputs": [
    {
     "data": {
      "text/plain": [
       "'dave id is dave'"
      ]
     },
     "execution_count": 27,
     "metadata": {},
     "output_type": "execute_result"
    }
   ],
   "source": [
    "string05 = \"Dave ID is dave\"\n",
    "string05.lower()"
   ]
  },
  {
   "cell_type": "code",
   "execution_count": 31,
   "id": "623c6d41-2f55-4e44-98d5-96e1c1126262",
   "metadata": {},
   "outputs": [
    {
     "data": {
      "text/plain": [
       "['Dave', 'goes', 'to', 'Korea']"
      ]
     },
     "execution_count": 31,
     "metadata": {},
     "output_type": "execute_result"
    }
   ],
   "source": [
    "string06 = \"Dave goes to Korea\"\n",
    "string06.split()[3]\n",
    "string06.split(\" \")\n",
    "\n",
    "string07 = \"Dave/goes/to/Korea\"\n",
    "string07.split(\"/\")"
   ]
  },
  {
   "cell_type": "markdown",
   "id": "a9eb48da-3233-49cc-b05e-3b3bcdd45e5b",
   "metadata": {},
   "source": [
    "#### 문자열 \"10, 11, 12, 13, 14\" 해당 값을 리스트 자료형태 [10, 11, 12, 13, 14] 로 변환시켜보세요!!"
   ]
  },
  {
   "cell_type": "code",
   "execution_count": 33,
   "id": "20e3dd09-e545-4548-9eb1-be52f6e11a25",
   "metadata": {},
   "outputs": [
    {
     "name": "stdout",
     "output_type": "stream",
     "text": [
      "[10, 11, 12, 13, 14]\n"
     ]
    }
   ],
   "source": [
    "string = \"10,11,12,13,14\"\n",
    "split_string = string.split(\",\")\n",
    "\n",
    "for index, split_item in enumerate(split_string) :\n",
    "    split_string[index] = int(split_item)\n",
    "print(split_string)"
   ]
  },
  {
   "cell_type": "code",
   "execution_count": 41,
   "id": "9b8b235c-2576-43b3-a6e1-b85d6748c3e8",
   "metadata": {},
   "outputs": [
    {
     "data": {
      "text/plain": [
       "'David'"
      ]
     },
     "execution_count": 41,
     "metadata": {},
     "output_type": "execute_result"
    }
   ],
   "source": [
    "string08 = \"Dave goes to Korea\"\n",
    "string08.replace(\"Dave\", \"David\")\n",
    "\n",
    "string09 = \"(David)\"\n",
    "string09.replace(\"(\", \"\")\n",
    "\n",
    "string10 = \"(David)\"\n",
    "string10.replace(\"()\", \"\")\n",
    "\n",
    "string11 = \"(David)\"\n",
    "# string12 = string11.replace(\"(\", \"\")\n",
    "# string12.replace(\")\", \"\")\n",
    "\n",
    "# Method Chaining\n",
    "string13 = string11.replace(\"(\", \"\").replace(\")\", \"\")\n",
    "string13"
   ]
  }
 ],
 "metadata": {
  "kernelspec": {
   "display_name": "Python [conda env:base] *",
   "language": "python",
   "name": "conda-base-py"
  },
  "language_info": {
   "codemirror_mode": {
    "name": "ipython",
    "version": 3
   },
   "file_extension": ".py",
   "mimetype": "text/x-python",
   "name": "python",
   "nbconvert_exporter": "python",
   "pygments_lexer": "ipython3",
   "version": "3.13.5"
  }
 },
 "nbformat": 4,
 "nbformat_minor": 5
}
