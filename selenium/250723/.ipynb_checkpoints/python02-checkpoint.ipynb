{
 "cells": [
  {
   "cell_type": "code",
   "execution_count": 3,
   "id": "e5e1639e-c643-4d13-b4ba-8c7f6068405c",
   "metadata": {},
   "outputs": [
    {
     "name": "stdout",
     "output_type": "stream",
     "text": [
      "Teddy의 선물 블로그\n"
     ]
    }
   ],
   "source": [
    "from selenium import webdriver\n",
    "from selenium.webdriver.chrome.service import Service\n",
    "from selenium.webdriver.common.by import By\n",
    "from selenium.webdriver.common.keys import Keys\n",
    "from selenium.webdriver.chrome.options import Options\n",
    "from webdriver_manager.chrome import ChromeDriverManager\n",
    "import time\n",
    "import pyautogui\n",
    "\n",
    "service = Service(ChromeDriverManager().install())\n",
    "\n",
    "options = Options()\n",
    "options.add_argument(\"headless\")\n",
    "options.add_argument(\"window-size=1920x1080\")\n",
    "options.add_argument(\"--disable-gpu\")\n",
    "options.add_argument(\"Mozilla/5.0 (Macintosh; Intel Mac OS X 10_15_7) AppleWebKit/537.36 (KHTML, like Gecko) Chrome/138.0.0.0 Safari/537.36\")\n",
    "options.add_argument(\"lang=ko_KR\")\n",
    "\n",
    "driver = webdriver.Chrome(service = service, options = options)\n",
    "driver.get(\"https://davelee-fun.github.io/\")\n",
    "\n",
    "element = driver.find_element(By.TAG_NAME, \"h1\")\n",
    "print(element.text)\n",
    "\n",
    "time.sleep(3)\n",
    "\n",
    "driver.quit()"
   ]
  },
  {
   "attachments": {},
   "cell_type": "markdown",
   "id": "28aaa1db-f73d-4cdd-a0df-d670059f0919",
   "metadata": {},
   "source": [
    "#### 다음 웹 사이트에 접속해서 selenium을 활용해 크롤링해오세요.\n",
    "- https://crawlingtest.netlify.app/\n",
    "- 부모요소의 id 속성값이 dev_course_list인 자식요소의 class가 course인 데이터만 출력해주세요."
   ]
  },
  {
   "cell_type": "code",
   "execution_count": 9,
   "id": "c42782d2-f5a4-47a2-b5f0-1f6096d7fa19",
   "metadata": {},
   "outputs": [
    {
     "name": "stdout",
     "output_type": "stream",
     "text": [
      "(초급) - 강사가 실제 사용하는 자동 프로그램 소개 [2]\n",
      "(초급) - 필요한 프로그램 설치 시연 [5]\n",
      "(초급) - 데이터를 엑셀 파일로 만들기 [9]\n",
      "(초급) -     엑셀 파일 이쁘게! 이쁘게! [8]\n",
      "(초급) -     나대신 주기적으로 파이썬 프로그램 실행하기 [7]\n",
      "(초급) - 파이썬으로 슬랙(slack) 메신저에 글쓰기 [40]\n",
      "(초급) - 웹사이트 변경사항 주기적으로 체크해서, 메신저로 알람주기 [12]\n",
      "(초급) - 네이버 API 사용해서, 블로그에 글쓰기 [42]\n",
      "(중급) - 자동으로 쿠팡파트너스 API 로 가져온 상품 정보, 네이버 블로그/트위터에 홍보하기 [412]\n"
     ]
    }
   ],
   "source": [
    "from selenium import webdriver\n",
    "from selenium.webdriver.chrome.service import Service\n",
    "from selenium.webdriver.common.by import By\n",
    "from selenium.webdriver.common.keys import Keys\n",
    "from selenium.webdriver.chrome.options import Options\n",
    "from webdriver_manager.chrome import ChromeDriverManager\n",
    "import time\n",
    "import pyautogui\n",
    "\n",
    "service = Service(ChromeDriverManager().install())\n",
    "\n",
    "options = Options()\n",
    "options.add_argument(\"headless\")\n",
    "options.add_argument(\"window-size=1920x1080\")\n",
    "options.add_argument(\"--disable-gpu\")\n",
    "options.add_argument(\"Mozilla/5.0 (Macintosh; Intel Mac OS X 10_15_7) AppleWebKit/537.36 (KHTML, like Gecko) Chrome/138.0.0.0 Safari/537.36\")\n",
    "options.add_argument(\"lang=ko_KR\")\n",
    "\n",
    "driver = webdriver.Chrome(service = service, options = options)\n",
    "driver.get(\"https://crawlingtest.netlify.app\")\n",
    "\n",
    "elements = driver.find_elements(By.CSS_SELECTOR, \"ul#dev_course_list > li.course\")\n",
    "\n",
    "for element in elements :\n",
    "    print(element.text)\n",
    "\n",
    "time.sleep(3)\n",
    "\n",
    "driver.quit()"
   ]
  },
  {
   "cell_type": "markdown",
   "id": "792f322e-ffd7-48ed-93df-f21a8b17f33e",
   "metadata": {},
   "source": [
    "#### 다음 웹 사이트에 접속해서 selenium을 활용해 크롤링해오세요.\n",
    "- https://crawlingtest.netlify.app/\n",
    "- 해당 사이트 내 커리큘럼 일정 표 안에 있는 데이터 모두 추출해서 출력해주세요."
   ]
  },
  {
   "cell_type": "code",
   "execution_count": 12,
   "id": "c5194e73-8bc4-451f-ada1-69410d1a5eac",
   "metadata": {},
   "outputs": [
    {
     "name": "stdout",
     "output_type": "stream",
     "text": [
      "일정\n",
      "커리큘럼 타이틀\n",
      "난이도\n",
      "5.1 ~ 6.15\n",
      "나만의 엣지있는 블로그 사이트 만들기 (취미로 익히는 IT)\n",
      "초급\n",
      "6.16 ~ 7.31\n",
      "파이썬과 데이터과학 첫걸음 (IT 기본기 익히기)\n",
      "중급\n"
     ]
    }
   ],
   "source": [
    "from selenium import webdriver\n",
    "from selenium.webdriver.chrome.service import Service\n",
    "from selenium.webdriver.common.by import By\n",
    "from selenium.webdriver.common.keys import Keys\n",
    "from selenium.webdriver.chrome.options import Options\n",
    "from webdriver_manager.chrome import ChromeDriverManager\n",
    "import time\n",
    "import pyautogui\n",
    "\n",
    "service = Service(ChromeDriverManager().install())\n",
    "\n",
    "options = Options()\n",
    "options.add_argument(\"headless\")\n",
    "options.add_argument(\"window-size=1920x1080\")\n",
    "options.add_argument(\"--disable-gpu\")\n",
    "options.add_argument(\"Mozilla/5.0 (Macintosh; Intel Mac OS X 10_15_7) AppleWebKit/537.36 (KHTML, like Gecko) Chrome/138.0.0.0 Safari/537.36\")\n",
    "options.add_argument(\"lang=ko_KR\")\n",
    "\n",
    "driver = webdriver.Chrome(service = service, options = options)\n",
    "driver.get(\"https://crawlingtest.netlify.app\")\n",
    "\n",
    "# elements = driver.find_elements(By.TAG_NAME, \"td\")\n",
    "elements = driver.find_elements(By.CSS_SELECTOR, \"table tr td\")\n",
    "\n",
    "for element in elements :\n",
    "    print(element.text)\n",
    "\n",
    "time.sleep(3)\n",
    "\n",
    "driver.quit()"
   ]
  },
  {
   "cell_type": "markdown",
   "id": "696cc43a-9cee-4e7c-9a5c-496be7378476",
   "metadata": {},
   "source": [
    "#### 다음 웹 사이트에 접속해서 selenium을 활용해 크롤링해오세요.\n",
    "- https://crawlingtest.netlify.app/\n",
    "- 아래 데이터만 추출해오세요!!!\n",
    "  (중급) - 자동으로 쿠팡파트너스 API 로 가져온 상품 정보, 네이버 블로그/트위터에 홍보하기 [412]"
   ]
  },
  {
   "cell_type": "code",
   "execution_count": 17,
   "id": "445ddcc8-b65d-45c3-82b8-43169c524315",
   "metadata": {},
   "outputs": [
    {
     "name": "stdout",
     "output_type": "stream",
     "text": [
      "(중급) - 자동으로 쿠팡파트너스 API 로 가져온 상품 정보, 네이버 블로그/트위터에 홍보하기 [412]\n"
     ]
    }
   ],
   "source": [
    "from selenium import webdriver\n",
    "from selenium.webdriver.chrome.service import Service\n",
    "from selenium.webdriver.common.by import By\n",
    "from selenium.webdriver.common.keys import Keys\n",
    "from selenium.webdriver.chrome.options import Options\n",
    "from webdriver_manager.chrome import ChromeDriverManager\n",
    "import time\n",
    "import pyautogui\n",
    "\n",
    "service = Service(ChromeDriverManager().install())\n",
    "\n",
    "options = Options()\n",
    "options.add_argument(\"headless\")\n",
    "options.add_argument(\"window-size=1920x1080\")\n",
    "options.add_argument(\"--disable-gpu\")\n",
    "options.add_argument(\"Mozilla/5.0 (Macintosh; Intel Mac OS X 10_15_7) AppleWebKit/537.36 (KHTML, like Gecko) Chrome/138.0.0.0 Safari/537.36\")\n",
    "options.add_argument(\"lang=ko_KR\")\n",
    "\n",
    "driver = webdriver.Chrome(service = service, options = options)\n",
    "driver.get(\"https://crawlingtest.netlify.app\")\n",
    "\n",
    "elements = driver.find_elements(By.CSS_SELECTOR, \"ul#dev_course_list > li.course\")\n",
    "\n",
    "# for element in elements :\n",
    "#     print(element.text)\n",
    "\n",
    "print(elements[8].text)\n",
    "\n",
    "time.sleep(3)\n",
    "\n",
    "driver.quit()"
   ]
  },
  {
   "cell_type": "markdown",
   "id": "d819d90d-0006-4e55-8e1e-358d9b59a87e",
   "metadata": {},
   "source": [
    "#### 다음 웹 사이트에 접속해서 selenium을 활용해 크롤링해오세요.\n",
    "- https://divjason.github.io/sellenium-test/\n",
    "- class 값이 \"news\" 인 요소의 태그 내용을 찾아서 출력해주세요!!!"
   ]
  },
  {
   "cell_type": "code",
   "execution_count": 21,
   "id": "429f101e-fb00-4782-9804-ea1b95fd8716",
   "metadata": {},
   "outputs": [
    {
     "name": "stdout",
     "output_type": "stream",
     "text": [
      "뉴스: 머신러닝 강좌가 나왔어요~~~\n"
     ]
    }
   ],
   "source": [
    "from selenium import webdriver\n",
    "from selenium.webdriver.chrome.service import Service\n",
    "from selenium.webdriver.common.by import By\n",
    "from selenium.webdriver.common.keys import Keys\n",
    "from selenium.webdriver.chrome.options import Options\n",
    "from webdriver_manager.chrome import ChromeDriverManager\n",
    "import time\n",
    "import pyautogui\n",
    "\n",
    "service = Service(ChromeDriverManager().install())\n",
    "\n",
    "options = Options()\n",
    "options.add_argument(\"headless\")\n",
    "options.add_argument(\"window-size=1920x1080\")\n",
    "options.add_argument(\"--disable-gpu\")\n",
    "options.add_argument(\"Mozilla/5.0 (Macintosh; Intel Mac OS X 10_15_7) AppleWebKit/537.36 (KHTML, like Gecko) Chrome/138.0.0.0 Safari/537.36\")\n",
    "options.add_argument(\"lang=ko_KR\")\n",
    "\n",
    "driver = webdriver.Chrome(service = service, options = options)\n",
    "driver.get(\"https://divjason.github.io/sellenium-test/index.html?\")\n",
    "\n",
    "element = driver.find_element(By.CSS_SELECTOR, \"span.news\")\n",
    "print(element.text)\n",
    "\n",
    "time.sleep(3)\n",
    "\n",
    "driver.quit()"
   ]
  },
  {
   "cell_type": "markdown",
   "id": "b5d8d5c5-4d47-497f-a9d4-63d0eb1b833a",
   "metadata": {},
   "source": [
    "#### 다음 웹 사이트에 접속해서 selenium을 활용해 크롤링해오세요.\n",
    "- https://divjason.github.io/sellenium-test/index.html\n",
    "- input 태그 요소에 아이디 error@error.com / 비밀번호 1234 입력 후 로그인 버튼 자동으로 클릭하기!\n",
    "- 클릭 이후 이동한 페이지에서 message 라는 클래스 속성값을 가지고 있는 요소의 텍스트 정보를 출력!!\n",
    "- 해당 페이지에서 로그아웃 버튼을 클릭 후 이동한 페이지에서 다시 message 라는 클래스 속성값을 가지고 있는 요소의 텍스트 정보를 출력!!"
   ]
  },
  {
   "cell_type": "code",
   "execution_count": 36,
   "id": "305087b8-fd54-4583-856b-0b6c85f11b72",
   "metadata": {},
   "outputs": [
    {
     "name": "stdout",
     "output_type": "stream",
     "text": [
      "실제 사이트는 https://megaitlab.com/ 입니다\n",
      "본 페이지는 로그인된 페이지입니다!\n",
      "뉴스: 머신러닝 강좌가 나왔어요~~~\n",
      "클릭 전 URL: https://divjason.github.io/sellenium-test/index_login.html?username=error%40error.com&password=1234\n",
      "클릭 후 URL: https://divjason.github.io/sellenium-test/index_login.html?username=error%40error.com&password=1234\n",
      "실제 사이트는 https://megaitlab.com/ 입니다\n",
      "본 페이지는 로그인된 페이지입니다!\n",
      "뉴스: 머신러닝 강좌가 나왔어요~~~\n"
     ]
    }
   ],
   "source": [
    "from selenium import webdriver\n",
    "from selenium.webdriver.chrome.service import Service\n",
    "from selenium.webdriver.common.by import By\n",
    "from selenium.webdriver.common.keys import Keys\n",
    "from selenium.webdriver.chrome.options import Options\n",
    "from webdriver_manager.chrome import ChromeDriverManager\n",
    "import time\n",
    "import pyautogui\n",
    "\n",
    "service = Service(ChromeDriverManager().install())\n",
    "prefs = {\n",
    "    \"credentials_enable_service\": False,  # 크롬 자체 로그인 팝업 비활성화\n",
    "    \"profile.password_manager_enabled\": False,  # 비밀번호 저장 팝업 끄기\n",
    "}\n",
    "\n",
    "options = Options()\n",
    "options.add_argument(\"headless\")\n",
    "options.add_experimental_option(\"prefs\", prefs)\n",
    "options.add_argument(\"window-size=1920x1080\")\n",
    "options.add_argument(\"--disable-gpu\")\n",
    "options.add_argument(\"Mozilla/5.0 (Macintosh; Intel Mac OS X 10_15_7) AppleWebKit/537.36 (KHTML, like Gecko) Chrome/138.0.0.0 Safari/537.36\")\n",
    "options.add_argument(\"lang=ko_KR\")\n",
    "\n",
    "driver = webdriver.Chrome(service = service, options = options)\n",
    "driver.get(\"https://divjason.github.io/sellenium-test/index.html?\")\n",
    "\n",
    "element = driver.find_element(By.ID, \"username\")\n",
    "element.clear()\n",
    "element.send_keys(\"error@error.com\")\n",
    "\n",
    "element = driver.find_element(By.ID, \"password\")\n",
    "element.clear()\n",
    "element.send_keys(\"1234\")\n",
    "\n",
    "time.sleep(3)\n",
    "\n",
    "# element.send_keys(Keys.RETURN)\n",
    "element = driver.find_element(By.CSS_SELECTOR, \"input[type='submit']\")\n",
    "element.click()\n",
    "\n",
    "time.sleep(3)\n",
    "\n",
    "element1 = driver.find_element(By.CSS_SELECTOR, \"div.message\")\n",
    "print(element1.text)\n",
    "print(\"클릭 전 URL:\", driver.current_url)\n",
    "\n",
    "element = driver.find_element(By.CSS_SELECTOR, \"input[value='로그아웃']\")\n",
    "element.click()\n",
    "print(\"클릭 후 URL:\", driver.current_url)\n",
    "\n",
    "driver.get(\"https://divjason.github.io/sellenium-test/index.html?\")\n",
    "\n",
    "element2 = driver.find_element(By.CSS_SELECTOR, \"div.message\")\n",
    "print(element2.text)\n",
    "\n",
    "driver.quit()"
   ]
  }
 ],
 "metadata": {
  "kernelspec": {
   "display_name": "Python [conda env:base] *",
   "language": "python",
   "name": "conda-base-py"
  },
  "language_info": {
   "codemirror_mode": {
    "name": "ipython",
    "version": 3
   },
   "file_extension": ".py",
   "mimetype": "text/x-python",
   "name": "python",
   "nbconvert_exporter": "python",
   "pygments_lexer": "ipython3",
   "version": "3.13.5"
  }
 },
 "nbformat": 4,
 "nbformat_minor": 5
}
